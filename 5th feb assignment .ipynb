{
 "cells": [
  {
   "cell_type": "markdown",
   "id": "a5b2d60a-1161-477e-9be9-4506b4b838c7",
   "metadata": {},
   "source": [
    "Ans 1\n",
    "Class: In object-oriented programming, a class is a blueprint or a template for creating objects (an instance of the class). It defines a set of attributes and behaviors that an object of that class will have. A class can be considered as a blueprint for the object or objects that can be created using it.\n",
    "\n",
    "Object: An object is an instance of a class. It is a real-world entity with attributes and behaviors that are defined by the class. An object has a state and a behavior, and it is created from a class. An object is also known as an instance of a class.\n",
    "\n",
    "Example: Let's consider a class called \"Car\". A Car class might have attributes such as color, make, model, and year, and behaviors such as start, stop, and drive. An object of the Car class would be a specific car, such as a red 2022 Toyota Corolla. The red 2022 Toyota Corolla would have the attributes of color (red), make (Toyota), model (Corolla), and year (2022), and it would be able to perform the behaviors start, stop, and drive."
   ]
  },
  {
   "cell_type": "markdown",
   "id": "1f4a1cf7-18d7-4a67-a798-3260871572dd",
   "metadata": {},
   "source": [
    "Ans 2 \n",
    " The four pillars of object-oriented programming (OOP) are:\n",
    "\n",
    "Abstraction: Abstraction refers to the practice of exposing only the relevant information and hiding the complexity of the implementation. It allows the user to focus on what the object does rather than how it does it.\n",
    "\n",
    "Encapsulation: Encapsulation is the mechanism of wrapping the data (variables) and functions that operate on that data within a single unit or object. This protects the data from accidental corruption and provides a secure way to access the data.\n",
    "\n",
    "Inheritance: Inheritance is a mechanism where a new class can be derived from an existing class. The derived class inherits all the attributes and behaviors of the parent class and can also have its own attributes and behaviors.\n",
    "\n",
    "Polymorphism: Polymorphism is the ability of an object to take on multiple forms. This is achieved in OOP by defining methods with the same name in different classes that are related by inheritance. When a method is called on an object, the correct implementation of that method is executed based on the object's actual class."
   ]
  },
  {
   "cell_type": "markdown",
   "id": "195499cb-c96f-4f84-9d9c-b4a3f9e3c07c",
   "metadata": {},
   "source": [
    "Ans 3 \n",
    " The init() function is used in object-oriented programming to initialize the attributes of an object at the time of its creation. It is a special method that is automatically called when an object is created from a class. The init() method is also known as a constructor.\n",
    "\n",
    "The init() function allows you to set the default values for the object's attributes, perform any initializations, and allocate any required memory when the object is created. The method takes the newly created object as its first argument (usually referred to as self), and additional arguments can be passed to initialize the object's attributes.\n",
    "\n",
    "Example: Consider a class Person that represents a person's name and age. The init() function can be used to initialize these attributes when a new object of the Person class is created."
   ]
  },
  {
   "cell_type": "code",
   "execution_count": 3,
   "id": "a646e136-180e-47ae-8c5b-9a9a48e6c170",
   "metadata": {},
   "outputs": [
    {
     "name": "stdout",
     "output_type": "stream",
     "text": [
      "Siddhartha Sharma\n",
      "22\n"
     ]
    }
   ],
   "source": [
    "class Person:\n",
    "    def __init__(self, name, age):\n",
    "        self.name = name\n",
    "        self.age = age\n",
    "\n",
    "person = Person(\"Siddhartha Sharma\", 22)\n",
    "print(person.name) \n",
    "print(person.age) "
   ]
  },
  {
   "cell_type": "markdown",
   "id": "03f92a08-0eda-4b19-a68f-82c8e8445b4e",
   "metadata": {},
   "source": [
    "Ans 4\n",
    "In object-oriented programming (OOP), self is used to refer to the instance of the object being manipulated within a method. It is a convention in Python (and some other programming languages) to use self as the first argument in an instance method to refer to the instance of the object.\n",
    "\n",
    "When a method is called on an object, the object is passed as the first argument to the method, and it can be accessed using the self reference. This allows the method to access and modify the object's attributes and perform other operations on the object."
   ]
  },
  {
   "cell_type": "code",
   "execution_count": 5,
   "id": "d6a43990-ad9b-4791-b863-f9d75d0b5521",
   "metadata": {},
   "outputs": [
    {
     "name": "stdout",
     "output_type": "stream",
     "text": [
      "Siddhartha Sharma\n",
      "Sid\n"
     ]
    }
   ],
   "source": [
    "class Person:\n",
    "    def __init__(self, name, age):\n",
    "        self.name = name\n",
    "        self.age = age\n",
    "        \n",
    "    def set_name(self, name):\n",
    "        self.name = name\n",
    "        \n",
    "    def set_age(self, age):\n",
    "        self.age = age\n",
    "\n",
    "person = Person(\"Siddhartha Sharma\", 22)\n",
    "print(person.name)\n",
    "person.set_name(\"Sid\")\n",
    "print(person.name)"
   ]
  },
  {
   "cell_type": "markdown",
   "id": "ff02ee92-e04b-4500-baea-91dcab7bd273",
   "metadata": {},
   "source": [
    "Ans 5 \n",
    "Inheritance is a mechanism in object-oriented programming (OOP) that allows a new class to be derived from an existing class. The derived class inherits all the attributes and behaviors of the parent class and can also have its own attributes and behaviors. Inheritance enables code reuse and makes it easier to create and maintain large, complex systems.\n",
    "\n",
    "There are several types of inheritance, including:\n",
    "\n",
    "A- Single inheritance: Single inheritance is a type of inheritance where a derived class inherits from a single base class."
   ]
  },
  {
   "cell_type": "code",
   "execution_count": 8,
   "id": "e49b638c-463b-482f-b6a0-950aa4e1d08b",
   "metadata": {},
   "outputs": [
    {
     "name": "stdout",
     "output_type": "stream",
     "text": [
      "Cat\n",
      "4\n",
      "Meow\n"
     ]
    }
   ],
   "source": [
    "class Animal:\n",
    "    def __init__(self, species, legs):\n",
    "        self.species = species\n",
    "        self.legs = legs\n",
    "        \n",
    "    def make_sound(self):\n",
    "        print(\"Some animal sound\")\n",
    "        \n",
    "class Cat(Animal):\n",
    "    def __init__(self, breed):\n",
    "        Animal.__init__(self, \"Cat\", 4)\n",
    "        self.breed = breed\n",
    "        \n",
    "    def make_sound(self):\n",
    "        print(\"Meow\")\n",
    "        \n",
    "cat = Cat(\"Persian\")\n",
    "print(cat.species) \n",
    "print(cat.legs) \n",
    "cat.make_sound() "
   ]
  },
  {
   "cell_type": "markdown",
   "id": "85c8fd53-494c-4b40-8ff3-1e5edb825987",
   "metadata": {},
   "source": [
    "B- Multiple inheritance: Multiple inheritance is a type of inheritance where a derived class inherits from multiple base classes."
   ]
  },
  {
   "cell_type": "code",
   "execution_count": 9,
   "id": "a986e9af-0f2e-4095-8b75-909f47f8fbde",
   "metadata": {},
   "outputs": [
    {
     "name": "stdout",
     "output_type": "stream",
     "text": [
      "Cat\n",
      "4\n",
      "True\n",
      "Meow\n"
     ]
    }
   ],
   "source": [
    "class Animal:\n",
    "    def __init__(self, species, legs):\n",
    "        self.species = species\n",
    "        self.legs = legs\n",
    "        \n",
    "    def make_sound(self):\n",
    "        print(\"Some animal sound\")\n",
    "        \n",
    "class DomesticAnimal:\n",
    "    def __init__(self, domesticated):\n",
    "        self.domesticated = domesticated\n",
    "        \n",
    "class Cat(Animal, DomesticAnimal):\n",
    "    def __init__(self, breed):\n",
    "        Animal.__init__(self, \"Cat\", 4)\n",
    "        DomesticAnimal.__init__(self, True)\n",
    "        self.breed = breed\n",
    "        \n",
    "    def make_sound(self):\n",
    "        print(\"Meow\")\n",
    "        \n",
    "cat = Cat(\"Persian\")\n",
    "print(cat.species) \n",
    "print(cat.legs) \n",
    "print(cat.domesticated) \n",
    "cat.make_sound() "
   ]
  },
  {
   "cell_type": "markdown",
   "id": "0f070db8-ff8f-4bcc-b23e-2e253654b090",
   "metadata": {},
   "source": [
    "C- Multi-level inheritance: Multi-level inheritance is a type of inheritance where a derived class inherits from a base class, which in turn inherits from another base class."
   ]
  },
  {
   "cell_type": "code",
   "execution_count": 10,
   "id": "4cc1f009-823d-43e2-96aa-327fb2e3f868",
   "metadata": {},
   "outputs": [
    {
     "name": "stdout",
     "output_type": "stream",
     "text": [
      "Mammal\n",
      "4\n"
     ]
    }
   ],
   "source": [
    "class Animal:\n",
    "    def __init__(self, species, legs):\n",
    "        self.species = species\n",
    "        self.legs = legs\n",
    "        \n",
    "    def make_sound(self):\n",
    "        print(\"Some animal sound\")\n",
    "        \n",
    "class Mammal(Animal):\n",
    "    def __init__(self, fur):\n",
    "        Animal.__init__(self, \"Mammal\", 4)\n",
    "        self.fur = fur\n",
    "        \n",
    "class Cat(Mammal):\n",
    "    def __init__(self, breed):\n",
    "        Mammal.__init__(self, True)\n",
    "        self.breed = breed\n",
    "        \n",
    "    def make_sound(self):\n",
    "        print(\"Bark\")\n",
    "        \n",
    "cat = Cat(\"Labrador\")\n",
    "print(cat.species) \n",
    "print(cat.legs) "
   ]
  },
  {
   "cell_type": "code",
   "execution_count": null,
   "id": "2d1252b8-41fe-4dca-bbf4-af85a95ce579",
   "metadata": {},
   "outputs": [],
   "source": []
  }
 ],
 "metadata": {
  "kernelspec": {
   "display_name": "Python 3 (ipykernel)",
   "language": "python",
   "name": "python3"
  },
  "language_info": {
   "codemirror_mode": {
    "name": "ipython",
    "version": 3
   },
   "file_extension": ".py",
   "mimetype": "text/x-python",
   "name": "python",
   "nbconvert_exporter": "python",
   "pygments_lexer": "ipython3",
   "version": "3.10.8"
  }
 },
 "nbformat": 4,
 "nbformat_minor": 5
}
